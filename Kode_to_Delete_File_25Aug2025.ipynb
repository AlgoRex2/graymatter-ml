{
  "nbformat": 4,
  "nbformat_minor": 0,
  "metadata": {
    "colab": {
      "provenance": [],
      "authorship_tag": "ABX9TyNOpSSHj645DOokreYkvALb",
      "include_colab_link": true
    },
    "kernelspec": {
      "name": "python3",
      "display_name": "Python 3"
    },
    "language_info": {
      "name": "python"
    }
  },
  "cells": [
    {
      "cell_type": "markdown",
      "metadata": {
        "id": "view-in-github",
        "colab_type": "text"
      },
      "source": [
        "<a href=\"https://colab.research.google.com/github/AlgoRex2/graymatter-ml/blob/main/Kode_to_Delete_File_25Aug2025.ipynb\" target=\"_parent\"><img src=\"https://colab.research.google.com/assets/colab-badge.svg\" alt=\"Open In Colab\"/></a>"
      ]
    },
    {
      "cell_type": "code",
      "execution_count": 1,
      "metadata": {
        "colab": {
          "base_uri": "https://localhost:8080/"
        },
        "id": "7Q5DQsHleSR1",
        "outputId": "3cf7a674-e89b-49bd-8973-2e361f911e6e"
      },
      "outputs": [
        {
          "output_type": "stream",
          "name": "stdout",
          "text": [
            "Mounted at /content/drive\n"
          ]
        }
      ],
      "source": [
        "# Import Drive / Librarires\n",
        "from google.colab import drive\n",
        "import os\n",
        "\n",
        "# Step 1: Mount Google Drive\n",
        "drive.mount('/content/drive')"
      ]
    },
    {
      "cell_type": "code",
      "source": [
        "# Step 2: Define path to the CSV file\n",
        "file_path = '/content/drive/My Drive/DownLoads_Folder/Netflix Dataset_25Aug2025.csv'\n"
      ],
      "metadata": {
        "id": "MNUPfXMaebcB"
      },
      "execution_count": 2,
      "outputs": []
    },
    {
      "cell_type": "code",
      "source": [
        "# Step 2: Define path to the CSV file\n",
        "file_path = '/content/drive/My Drive/DownLoads_Folder/Netflix Dataset_25Aug2025.csv'\n",
        "\n",
        "# Step 3: Delete the file if it exists\n",
        "if os.path.exists(file_path):\n",
        "    os.remove(file_path)\n",
        "    print(\"🧨 Dataset rusked into the furnace. File deleted.\")\n",
        "else:\n",
        "    print(\"⚠️ File not found. Maybe it’s already toast?\")"
      ],
      "metadata": {
        "colab": {
          "base_uri": "https://localhost:8080/"
        },
        "id": "K3XICJGHebIi",
        "outputId": "f1c47c4f-3bfc-442a-9e2b-a89453afb2e5"
      },
      "execution_count": 3,
      "outputs": [
        {
          "output_type": "stream",
          "name": "stdout",
          "text": [
            "🧨 Dataset rusked into the furnace. File deleted.\n"
          ]
        }
      ]
    },
    {
      "cell_type": "markdown",
      "source": [
        "🧨 Dataset rusked into the furnace. File deleted."
      ],
      "metadata": {
        "id": "kKdDoTpgfOIB"
      }
    }
  ]
}