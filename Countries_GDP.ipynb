{
  "nbformat": 4,
  "nbformat_minor": 0,
  "metadata": {
    "colab": {
      "provenance": [],
      "authorship_tag": "ABX9TyM9xaz/NelmkIDF+qbaOlh1",
      "include_colab_link": true
    },
    "kernelspec": {
      "name": "python3",
      "display_name": "Python 3"
    },
    "language_info": {
      "name": "python"
    }
  },
  "cells": [
    {
      "cell_type": "markdown",
      "metadata": {
        "id": "view-in-github",
        "colab_type": "text"
      },
      "source": [
        "<a href=\"https://colab.research.google.com/github/AlgoRex2/graymatter-ml/blob/main/Countries_GDP.ipynb\" target=\"_parent\"><img src=\"https://colab.research.google.com/assets/colab-badge.svg\" alt=\"Open In Colab\"/></a>"
      ]
    },
    {
      "cell_type": "code",
      "execution_count": null,
      "metadata": {
        "colab": {
          "base_uri": "https://localhost:8080/"
        },
        "id": "7jL1NliCzAk6",
        "outputId": "24702b48-c43d-49de-d0fc-9df05d04164d"
      },
      "outputs": [
        {
          "output_type": "stream",
          "name": "stdout",
          "text": [
            "Mounted at /content/drive\n"
          ]
        }
      ],
      "source": [
        "# C1\n",
        "\n",
        "# This project is about GDP calculation\n",
        "\n",
        "# Mounting Google Drive\n",
        "\n",
        "from google.colab import drive\n",
        "drive.mount('/content/drive')"
      ]
    },
    {
      "cell_type": "code",
      "source": [
        "# C2\n",
        "\n",
        "# Load the Dataset\n",
        "\n",
        "# import necessary libraries\n",
        "\n",
        "import pandas as pd\n",
        "\n",
        "# The path needs to be adjusted for the Colab environment\n",
        "file_path = '/content/drive/MyDrive/DataSets_2025/2020-2025.csv'\n",
        "\n",
        "try:\n",
        "    df = pd.read_csv(file_path)\n",
        "    print(\"Dataset loaded successfully!\")\n",
        "\n",
        "    # Now, let's take a first look at the data\n",
        "    print(\"\\n--- First 5 Rows of the Dataset ---\")\n",
        "    print(df.head())\n",
        "\n",
        "    print(\"\\n--- Data Information and Types ---\")\n",
        "    df.info()\n",
        "\n",
        "except FileNotFoundError:\n",
        "    print(\"Error: The file was not found. Please check the file name and path in your Drive.\")\n",
        "except Exception as e:\n",
        "    print(f\"An error occurred: {e}\")"
      ],
      "metadata": {
        "colab": {
          "base_uri": "https://localhost:8080/"
        },
        "id": "3janu-KDz22a",
        "outputId": "7461cf75-651f-4e01-db14-2240f865a72d"
      },
      "execution_count": null,
      "outputs": [
        {
          "output_type": "stream",
          "name": "stdout",
          "text": [
            "Dataset loaded successfully!\n",
            "\n",
            "--- First 5 Rows of the Dataset ---\n",
            "       Country    2020      2021      2022      2023      2024      2025\n",
            "0  Afghanistan   20136   14278.0   14501.0   17248.0       NaN       NaN\n",
            "1      Albania   15271   18086.0   19185.0   23388.0   27259.0   28372.0\n",
            "2      Algeria  164774  185850.0  225709.0  247789.0  264913.0  268885.0\n",
            "3      Andorra    2885    3325.0    3376.0    3786.0    4038.0    4035.0\n",
            "4       Angola   66521   84375.0  142442.0  109764.0  115946.0  113343.0\n",
            "\n",
            "--- Data Information and Types ---\n",
            "<class 'pandas.core.frame.DataFrame'>\n",
            "RangeIndex: 196 entries, 0 to 195\n",
            "Data columns (total 7 columns):\n",
            " #   Column   Non-Null Count  Dtype  \n",
            "---  ------   --------------  -----  \n",
            " 0   Country  196 non-null    object \n",
            " 1   2020     196 non-null    int64  \n",
            " 2   2021     194 non-null    float64\n",
            " 3   2022     194 non-null    float64\n",
            " 4   2023     194 non-null    float64\n",
            " 5   2024     192 non-null    float64\n",
            " 6   2025     189 non-null    float64\n",
            "dtypes: float64(5), int64(1), object(1)\n",
            "memory usage: 10.8+ KB\n"
          ]
        }
      ]
    },
    {
      "cell_type": "markdown",
      "source": [
        "Initial Observations\n",
        "\n",
        "From the output  provided, we can make some key observations about the dataset:\n",
        "\n",
        "Structure: It has 196 rows (representing countries) and 7 columns (one for the country name and six for annual GDP from 2020 to 2025).\n",
        "\n",
        "Data Types: The 'Country' column is correctly identified as an object (text). The GDP columns are a mix of int64 and float64.\n",
        "\n",
        "Missing Values: We've identified some missing data. The info() output shows that the number of non-null entries decreases for later years:\n",
        "\n",
        "2020: 196 non-null\n",
        "\n",
        "2021-2023: 194 non-null\n",
        "\n",
        "2024: 192 non-null\n",
        "\n",
        "2025: 189 non-null\n",
        "\n",
        "This makes sense, as GDP data for later years (especially estimates for 2025) might not be available for all countries. We can also see this in the first row for Afghanistan, which has NaN values for 2024 and 2025."
      ],
      "metadata": {
        "id": "tndTbHan0sdC"
      }
    },
    {
      "cell_type": "code",
      "source": [
        "# C3\n",
        "\n",
        "# Identify Top Economies\n",
        "\n",
        "# To see the top 10 economies by 2024 GDP\n",
        "top_10_2024 = df.sort_values(by='2024', ascending=False).head(10)\n",
        "print(top_10_2024[['Country', '2024']])\n",
        "\n"
      ],
      "metadata": {
        "colab": {
          "base_uri": "https://localhost:8080/"
        },
        "id": "ZHDc94g4090L",
        "outputId": "2f121b9a-dfac-4e84-d30e-4f37497dcd94"
      },
      "execution_count": null,
      "outputs": [
        {
          "output_type": "stream",
          "name": "stdout",
          "text": [
            "            Country        2024\n",
            "186   United States  29184900.0\n",
            "36            China  18748009.0\n",
            "64          Germany   4658526.0\n",
            "85            Japan   4026211.0\n",
            "77            India   3909097.0\n",
            "185  United Kingdom   3644636.0\n",
            "60           France   3162023.0\n",
            "83            Italy   2372059.0\n",
            "32           Canada   2241253.0\n",
            "24           Brazil   2171337.0\n"
          ]
        }
      ]
    },
    {
      "cell_type": "code",
      "source": [
        "# C4\n",
        "\n",
        "#  Handle Missing Data\n",
        "\n",
        "# To find all countries with missing GDP data in 2025\n",
        "missing_2025 = df[df['2025'].isnull()]['Country']\n",
        "print(\"\\nCountries with missing 2025 GDP data:\")\n",
        "print(missing_2025)"
      ],
      "metadata": {
        "colab": {
          "base_uri": "https://localhost:8080/"
        },
        "id": "gK_s8LaA1ZHi",
        "outputId": "cac5619c-5e39-4eef-c307-c6217151aec0"
      },
      "execution_count": null,
      "outputs": [
        {
          "output_type": "stream",
          "name": "stdout",
          "text": [
            "\n",
            "Countries with missing 2025 GDP data:\n",
            "0      Afghanistan\n",
            "54         Eritrea\n",
            "96         Lebanon\n",
            "131       Pakistan\n",
            "161      Sri Lanka\n",
            "169          Syria\n",
            "192      Palestine\n",
            "Name: Country, dtype: object\n"
          ]
        }
      ]
    },
    {
      "cell_type": "code",
      "source": [
        "# C5\n",
        "\n",
        "# Visualize Economic Trends\n",
        "\n",
        "import matplotlib.pyplot as plt\n",
        "import seaborn as sns\n",
        "\n",
        "# Let's plot the trends for a few major economies\n",
        "countries_to_plot = ['United States', 'China', 'Germany', 'India']\n",
        "df_subset = df[df['Country'].isin(countries_to_plot)].set_index('Country').T\n",
        "\n",
        "plt.figure(figsize=(10, 6))\n",
        "sns.lineplot(data=df_subset, markers=True, dashes=False)\n",
        "plt.title('GDP Trend (2020-2025) for Major Economies')\n",
        "plt.xlabel('Year')\n",
        "plt.ylabel('GDP')\n",
        "plt.grid(True)\n",
        "plt.show()"
      ],
      "metadata": {
        "colab": {
          "base_uri": "https://localhost:8080/",
          "height": 564
        },
        "id": "e9NQf6Ou13Eb",
        "outputId": "c763b166-6b0f-409d-f53f-e8376d84e6c2"
      },
      "execution_count": null,
      "outputs": [
        {
          "output_type": "display_data",
          "data": {
            "text/plain": [
              "<Figure size 1000x600 with 1 Axes>"
            ],
            "image/png": "[encoded data removed]"
          },
          "metadata": {}
        }
      ]
    },
    {
      "cell_type": "code",
      "source": [
        "# C6\n",
        "\n",
        "# Handling Missing Data\n",
        "\n",
        "# Create a new DataFrame and drop rows with any missing values (NaN)\n",
        "df_clean = df.dropna()\n",
        "\n",
        "print(\"Original number of rows:\", len(df))\n",
        "print(\"Number of rows after dropping missing values:\", len(df_clean))\n",
        "print(\"\\n--- Info of the Cleaned DataFrame ---\")\n",
        "df_clean.info()\n"
      ],
      "metadata": {
        "colab": {
          "base_uri": "https://localhost:8080/"
        },
        "id": "1lUNgkyl2IFU",
        "outputId": "9f0fe17d-ca07-4344-b55c-bfaf7238ae12"
      },
      "execution_count": null,
      "outputs": [
        {
          "output_type": "stream",
          "name": "stdout",
          "text": [
            "Original number of rows: 196\n",
            "Number of rows after dropping missing values: 189\n",
            "\n",
            "--- Info of the Cleaned DataFrame ---\n",
            "<class 'pandas.core.frame.DataFrame'>\n",
            "Index: 189 entries, 1 to 195\n",
            "Data columns (total 7 columns):\n",
            " #   Column   Non-Null Count  Dtype  \n",
            "---  ------   --------------  -----  \n",
            " 0   Country  189 non-null    object \n",
            " 1   2020     189 non-null    int64  \n",
            " 2   2021     189 non-null    float64\n",
            " 3   2022     189 non-null    float64\n",
            " 4   2023     189 non-null    float64\n",
            " 5   2024     189 non-null    float64\n",
            " 6   2025     189 non-null    float64\n",
            "dtypes: float64(5), int64(1), object(1)\n",
            "memory usage: 11.8+ KB\n"
          ]
        }
      ]
    },
    {
      "cell_type": "code",
      "source": [
        "# C7\n",
        "\n",
        "# Prepare for a Regression Model\n",
        "\n",
        "# Define the features and the target variable\n",
        "features = ['2020', '2021', '2022', '2023', '2024']\n",
        "target = '2025'\n",
        "\n",
        "# Create the feature matrix (X) and the target vector (y)\n",
        "X = df_clean[features]\n",
        "y = df_clean[target]\n",
        "\n",
        "print(\"Shape of the feature matrix (X):\", X.shape)\n",
        "print(\"Shape of the target vector (y):\", y.shape)\n",
        "print(\"\\n--- First 5 rows of the feature matrix (X) ---\")\n",
        "print(X.head())\n",
        "print(\"\\n--- First 5 rows of the target vector (y) ---\")\n",
        "print(y.head())"
      ],
      "metadata": {
        "colab": {
          "base_uri": "https://localhost:8080/"
        },
        "id": "f5j72Q3p22mc",
        "outputId": "516e314a-1b66-4b3b-f830-2dd965f302fa"
      },
      "execution_count": null,
      "outputs": [
        {
          "output_type": "stream",
          "name": "stdout",
          "text": [
            "Shape of the feature matrix (X): (189, 5)\n",
            "Shape of the target vector (y): (189,)\n",
            "\n",
            "--- First 5 rows of the feature matrix (X) ---\n",
            "     2020      2021      2022      2023      2024\n",
            "1   15271   18086.0   19185.0   23388.0   27259.0\n",
            "2  164774  185850.0  225709.0  247789.0  264913.0\n",
            "3    2885    3325.0    3376.0    3786.0    4038.0\n",
            "4   66521   84375.0  142442.0  109764.0  115946.0\n",
            "5    1412    1602.0    1867.0    2006.0    2225.0\n",
            "\n",
            "--- First 5 rows of the target vector (y) ---\n",
            "1     28372.0\n",
            "2    268885.0\n",
            "3      4035.0\n",
            "4    113343.0\n",
            "5      2373.0\n",
            "Name: 2025, dtype: float64\n"
          ]
        }
      ]
    },
    {
      "cell_type": "markdown",
      "source": [
        "The data is perfectly prepared and ready for a machine learning model. The output confirms that we have:\n",
        "\n",
        "A feature matrix (X) with 189 rows and 5 columns, containing the GDP data from 2020-2024.\n",
        "\n",
        "A target vector (y) with 189 rows, containing the corresponding 2025 GDP values.\n",
        "\n",
        "This structure is exactly what a supervised learning algorithm needs.\n",
        "\n"
      ],
      "metadata": {
        "id": "orCf0pxN3mA4"
      }
    },
    {
      "cell_type": "markdown",
      "source": [
        "Before training, we must split our dataset into training and testing sets. The model learns from the training data and is then evaluated on the unseen testing data. This helps us ensure the model can generalize to new, unseen information. A common split ratio is 80% for training and 20% for testing.\n",
        "\n",
        "We'll use scikit-learn's train_test_split function to do this."
      ],
      "metadata": {
        "id": "CkqD_FmW4EsZ"
      }
    },
    {
      "cell_type": "code",
      "source": [
        "# C8\n",
        "\n",
        "# Split the Data ✂️\n",
        "\n",
        "from sklearn.model_selection import train_test_split\n",
        "\n",
        "# Split the data into training and testing sets\n",
        "X_train, X_test, y_train, y_test = train_test_split(X, y, test_size=0.2, random_state=42)\n",
        "\n",
        "print(f\"X_train shape: {X_train.shape}\")\n",
        "print(f\"X_test shape: {X_test.shape}\")\n",
        "print(f\"y_train shape: {y_train.shape}\")\n",
        "print(f\"y_test shape: {y_test.shape}\")\n"
      ],
      "metadata": {
        "colab": {
          "base_uri": "https://localhost:8080/"
        },
        "id": "oVSoz5xg3Wpi",
        "outputId": "f67fd2d5-4469-47e6-c2a2-f961c910e285"
      },
      "execution_count": null,
      "outputs": [
        {
          "output_type": "stream",
          "name": "stdout",
          "text": [
            "X_train shape: (151, 5)\n",
            "X_test shape: (38, 5)\n",
            "y_train shape: (151,)\n",
            "y_test shape: (38,)\n"
          ]
        }
      ]
    },
    {
      "cell_type": "markdown",
      "source": [
        "Since our goal is to predict a continuous numerical value (GDP), this is a regression problem. A great starting point is a Linear Regression model. It's simple, interpretable, and often provides a strong baseline.\n",
        "\n",
        "We will initialize the model, fit it to our training data, and then make predictions on our test data."
      ],
      "metadata": {
        "id": "Vxrdila438t0"
      }
    },
    {
      "cell_type": "code",
      "source": [
        "# C9\n",
        "\n",
        "# Choose and Train a Model 🤖\n",
        "\n",
        "from sklearn.linear_model import LinearRegression\n",
        "\n",
        "# Initialize the model\n",
        "model = LinearRegression()\n",
        "\n",
        "# Train the model on the training data\n",
        "model.fit(X_train, y_train)\n",
        "\n",
        "# Make predictions on the test data\n",
        "y_pred = model.predict(X_test)\n",
        "\n",
        "# Display the first 5 predictions\n",
        "print(f\"First 5 predictions: {y_pred[:5]}\")\n",
        "print(f\"First 5 actual values: {y_test[:5].values}\")"
      ],
      "metadata": {
        "colab": {
          "base_uri": "https://localhost:8080/"
        },
        "id": "sQ7tnLp-4NGp",
        "outputId": "0e1ffc25-eeca-44e1-8ee5-cf52842dd96a"
      },
      "execution_count": null,
      "outputs": [
        {
          "output_type": "stream",
          "name": "stdout",
          "text": [
            "First 5 predictions: [124300.07161792 974896.43651669  18193.2690445   68017.19344921\n",
            "  23355.80400245]\n",
            "First 5 actual values: [108511. 947125.  22236.  71561.  30094.]\n"
          ]
        }
      ]
    },
    {
      "cell_type": "markdown",
      "source": [
        "Model Evaluation 📊\n",
        "\n",
        "For a regression model that predicts continuous values, we use metrics that measure the difference between the predicted and actual values. The most common are Mean Absolute Error (MAE), Mean Squared Error (MSE), and Root Mean Squared Error (RMSE).\n",
        "\n",
        "Mean Absolute Error (MAE): This is the average of the absolute differences between the predictions and actual values. It's easy to interpret because it gives the average error in the same units as your data (in this case, dollars of GDP).\n",
        "\n",
        "Mean Squared Error (MSE): This is the average of the squared differences. Squaring the errors penalizes larger errors more heavily, which can be useful.\n",
        "\n",
        "Root Mean Squared Error (RMSE): This is the square root of the MSE. It brings the error back to the original units, making it more interpretable than MSE. It's a widely used metric.\n",
        "\n",
        "The smaller these values are, the better the model is performing.\n",
        "\n",
        "Here is the code to calculate these metrics using sklearn."
      ],
      "metadata": {
        "id": "HbF_-v96480N"
      }
    },
    {
      "cell_type": "code",
      "source": [
        "# C10\n",
        "\n",
        "# Model Evaluation 📊\n",
        "\n",
        "from sklearn.metrics import mean_absolute_error, mean_squared_error\n",
        "import numpy as np\n",
        "\n",
        "# Calculate the metrics\n",
        "mae = mean_absolute_error(y_test, y_pred)\n",
        "mse = mean_squared_error(y_test, y_pred)\n",
        "rmse = np.sqrt(mse)\n",
        "\n",
        "print(f\"Mean Absolute Error (MAE): {mae:,.2f}\")\n",
        "print(f\"Mean Squared Error (MSE): {mse:,.2f}\")\n",
        "print(f\"Root Mean Squared Error (RMSE): {rmse:,.2f}\")"
      ],
      "metadata": {
        "colab": {
          "base_uri": "https://localhost:8080/"
        },
        "id": "y2rAKMfR4kAz",
        "outputId": "b0b95a1e-1d4c-4214-b526-b99e26288ed2"
      },
      "execution_count": null,
      "outputs": [
        {
          "output_type": "stream",
          "name": "stdout",
          "text": [
            "Mean Absolute Error (MAE): 8,354.18\n",
            "Mean Squared Error (MSE): 236,853,877.17\n",
            "Root Mean Squared Error (RMSE): 15,390.06\n"
          ]
        }
      ]
    },
    {
      "cell_type": "markdown",
      "source": [
        "Interpreting the Results\n",
        "\n",
        "Mean Absolute Error (MAE):\n",
        "The MAE is approximately $8,354.18. This means that, on average, our model's prediction for a country's 2025 GDP is off by about $8.35 billion from the actual value. This is a very good result, especially considering the large scale of GDP values.\n",
        "\n",
        "Root Mean Squared Error (RMSE): The RMSE is approximately $15,390.06. This value is a bit higher than the MAE because the RMSE penalizes larger errors more heavily. It provides a good sense of the magnitude of our model's typical prediction error.\n",
        "\n",
        "These are strong baseline results for a simple Linear Regression model."
      ],
      "metadata": {
        "id": "3r5dnh0F5kRy"
      }
    },
    {
      "cell_type": "code",
      "source": [
        "# C11\n",
        "\n",
        "# Visualize the Predictions\n",
        "\n",
        "import matplotlib.pyplot as plt\n",
        "import seaborn as sns\n",
        "\n",
        "plt.figure(figsize=(10, 8))\n",
        "sns.scatterplot(x=y_test, y=y_pred)\n",
        "\n",
        "# Add a line representing a perfect prediction (y=x)\n",
        "sns.lineplot(x=[y_test.min(), y_test.max()], y=[y_test.min(), y_test.max()], color='red', linestyle='--')\n",
        "\n",
        "plt.title('Actual GDP vs. Predicted GDP (2025)')\n",
        "plt.xlabel('Actual 2025 GDP (in billions)')\n",
        "plt.ylabel('Predicted 2025 GDP (in billions)')\n",
        "plt.show()\n"
      ],
      "metadata": {
        "colab": {
          "base_uri": "https://localhost:8080/",
          "height": 718
        },
        "id": "bT6zrpJi5VoZ",
        "outputId": "2700fbd2-adf4-48a2-de50-a0390b64f934"
      },
      "execution_count": null,
      "outputs": [
        {
          "output_type": "display_data",
          "data": {
            "text/plain": [
              "<Figure size 1000x800 with 1 Axes>"
            ],
            "image/png": "[encoded data removed]"
          },
          "metadata": {}
        }
      ]
    },
    {
      "cell_type": "markdown",
      "source": [
        "Even a good model can be improved. We can try to make it even more accurate by adding another layer of complexity.\n",
        "\n",
        "1. Polynomial Features: The relationship between a country's past GDP and its future GDP might not be perfectly linear. We could add polynomial features to our model. This would allow it to capture curved or more complex relationships in the data."
      ],
      "metadata": {
        "id": "LXPgrQ3d6wXz"
      }
    },
    {
      "cell_type": "code",
      "source": [
        "# C12\n",
        "\n",
        "# Refine the Model (Model Tuning)\n",
        "\n",
        "# Polynomial Features:\n",
        "\n",
        "from sklearn.preprocessing import PolynomialFeatures\n",
        "from sklearn.pipeline import make_pipeline\n",
        "from sklearn.metrics import mean_absolute_error, mean_squared_error\n",
        "import numpy as np\n",
        "from sklearn.linear_model import LinearRegression\n",
        "\n",
        "# Create a pipeline that first adds polynomial features and then fits a Linear Regression model\n",
        "degree = 2 # You can try a different degree (e.g., 3)\n",
        "poly_model = make_pipeline(PolynomialFeatures(degree), LinearRegression())\n",
        "\n",
        "# Train the new model and make predictions\n",
        "poly_model.fit(X_train, y_train)\n",
        "y_pred_poly = poly_model.predict(X_test)\n",
        "\n",
        "# Evaluate the new model\n",
        "mae_poly = mean_absolute_error(y_test, y_pred_poly)\n",
        "rmse_poly = np.sqrt(mean_squared_error(y_test, y_pred_poly))\n",
        "\n",
        "print(f\"Polynomial Regression MAE: {mae_poly:,.2f}\")\n",
        "print(f\"Polynomial Regression RMSE: {rmse_poly:,.2f}\")"
      ],
      "metadata": {
        "colab": {
          "base_uri": "https://localhost:8080/"
        },
        "id": "EMkyjqV66LOv",
        "outputId": "548330f6-e2b7-473f-d796-54db370a2e36"
      },
      "execution_count": null,
      "outputs": [
        {
          "output_type": "stream",
          "name": "stdout",
          "text": [
            "Polynomial Regression MAE: 11,426.79\n",
            "Polynomial Regression RMSE: 26,928.37\n"
          ]
        }
      ]
    },
    {
      "cell_type": "markdown",
      "source": [
        "📉 Model Comparison\n",
        "Simple Linear Regression:\n",
        "\n",
        "MAE: $8,354.18\n",
        "\n",
        "RMSE: $15,390.06\n",
        "\n",
        "Polynomial Regression:\n",
        "\n",
        "MAE: $11,426.79 (higher is worse)\n",
        "\n",
        "RMSE: $26,928.37 (higher is worse)\n",
        "\n",
        "The higher MAE and RMSE values for the polynomial model indicate that its predictions, on average, are farther from the actual values. This is likely due to overfitting, where the more complex model learned the noise in the training data rather than the underlying trend, and thus performed poorly on the unseen test data. For this dataset, a simpler, linear relationship seems to be the best fit."
      ],
      "metadata": {
        "id": "vHwEzXiD7hhI"
      }
    },
    {
      "cell_type": "markdown",
      "source": [
        "Since our initial Linear Regression model was the most accurate, let's go with Option B and analyze its coefficients. This is a crucial step for model interpretability, as it tells us exactly how the model made its predictions. The coefficients show the \"weight\" or importance of each year's GDP in predicting the 2025 GDP."
      ],
      "metadata": {
        "id": "5L-jWrmo8H7Q"
      }
    },
    {
      "cell_type": "code",
      "source": [
        "# C13\n",
        "\n",
        "# 📈 Analyzing the Best Model\n",
        "\n",
        "import pandas as pd\n",
        "\n",
        "# Define the features that were used in the original model\n",
        "features = ['2020', '2021', '2022', '2023', '2024']\n",
        "\n",
        "# Create a DataFrame to display the coefficients\n",
        "coefficients = pd.DataFrame(model.coef_, features, columns=['Coefficient'])\n",
        "print(\"\\n--- Model Coefficients ---\")\n",
        "print(coefficients)"
      ],
      "metadata": {
        "colab": {
          "base_uri": "https://localhost:8080/"
        },
        "id": "cc2wg6Nr7817",
        "outputId": "5be11f39-11d6-4011-c095-7e865ceafc49"
      },
      "execution_count": null,
      "outputs": [
        {
          "output_type": "stream",
          "name": "stdout",
          "text": [
            "\n",
            "--- Model Coefficients ---\n",
            "      Coefficient\n",
            "2020     0.274782\n",
            "2021    -0.168423\n",
            "2022     0.109928\n",
            "2023    -0.949977\n",
            "2024     1.784618\n"
          ]
        }
      ]
    },
    {
      "cell_type": "markdown",
      "source": [
        "Interpreting the Model Coefficients 🧠\n",
        "\n",
        "The coefficients show how each year's GDP data contributes to the predicted 2025 GDP.\n",
        "\n",
        "2024 GDP: The coefficient is 1.784618. This is the most significant value, and it makes perfect sense. It means that for every one-unit increase in a country's 2024 GDP, our model predicts a 1.78-unit increase in its 2025 GDP. The most recent year is, by far, the strongest predictor of the next year's GDP.\n",
        "\n",
        "Other Years: The coefficients for 2020, 2021, 2022, and 2023 are much smaller and some are even negative. This is a common result in multicollinearity (where the input features are highly correlated with each other, which is true for time-series data). The model essentially found that given the strong predictive power of the 2024 GDP, the other years' data have a minimal or complex marginal effect on the final prediction."
      ],
      "metadata": {
        "id": "U0nVlIoJ8tuR"
      }
    },
    {
      "cell_type": "markdown",
      "source": [
        "\n",
        "\n",
        "Project Summary and Conclusion ⏰\n",
        "\n",
        "Problem Definition: Have set out to use a GDP dataset to build a predictive model.\n",
        "\n",
        "Exploratory Data Analysis (EDA): Inspected the data, identified missing values, and understood global economic trends.\n",
        "\n",
        "Data Preprocessing: Cleaned the data and prepared it in the correct format for a machine learning model.\n",
        "\n",
        "Model Building and Evaluation: Chose and trained a simple Linear Regression model and found that it performed very well. Correctly identified that a more complex model (Polynomial Regression) was not necessary and actually performed worse.\n",
        "\n",
        "Model Interpretation: Analyzed the model's coefficients to understand exactly how it makes its prediction"
      ],
      "metadata": {
        "id": "ojs3Koac82fI"
      }
    },
    {
      "cell_type": "markdown",
      "source": [
        "1. 📈 Time-Series Forecasting: Beyond Linear Regression\n",
        "\n",
        "We've already established a baseline with a linear regression model. Now, let's move on to a more advanced time-series model: Prophet. While ARIMA is a powerful tool, Prophet is often preferred for business forecasting due to its robustness and user-friendly nature. It can handle outliers, missing data, and multiple seasonality patterns more easily."
      ],
      "metadata": {
        "id": "Vve4rY3DJApO"
      }
    },
    {
      "cell_type": "markdown",
      "source": [
        "Here's the plan:\n",
        "\n",
        "Step 1: Prepare the data for Prophet. Prophet requires the time series to be in a DataFrame with two specific columns: ds (for datetime) and y (for the value to be forecasted).\n",
        "\n",
        "Step 2: Initialize and train the Prophet model on our historical data (2020-2023).\n",
        "\n",
        "Step 3: Create a DataFrame with future dates (2024 and 2025) to make our predictions.\n",
        "\n",
        "Step 4: Generate the forecast and visualize the results.\n",
        "\n"
      ],
      "metadata": {
        "id": "AaNJowVZJHm-"
      }
    },
    {
      "cell_type": "code",
      "source": [
        "# C14\n",
        "\n",
        "# Prepare Data for Prophet\n",
        "\n",
        "# Import the necessary library\n",
        "import pandas as pd\n",
        "from prophet import Prophet\n",
        "\n",
        "# Load the previously prepared US GDP data\n",
        "# Note: Since the file 'us_gdp_cleaned.csv' might not persist, we'll re-create the DataFrame\n",
        "data = {\n",
        "    'Year': [2020, 2021, 2022, 2023],\n",
        "    'GDP': [21370000.0, 23320000.0, 25440000.0, 26950000.0]\n",
        "}\n",
        "us_gdp = pd.DataFrame(data)\n",
        "\n",
        "# Convert 'Year' to datetime and rename columns for Prophet\n",
        "us_gdp['Year'] = pd.to_datetime(us_gdp['Year'], format='%Y')\n",
        "us_gdp.rename(columns={'Year': 'ds', 'GDP': 'y'}, inplace=True)\n",
        "\n",
        "# Display the first few rows to confirm the format\n",
        "print(\"Prophet-ready DataFrame:\")\n",
        "print(us_gdp.head())"
      ],
      "metadata": {
        "colab": {
          "base_uri": "https://localhost:8080/"
        },
        "id": "XHjEa5C7Gq1s",
        "outputId": "d24d78b6-aa1b-43b3-c9e0-ae1ead13ab5d"
      },
      "execution_count": 16,
      "outputs": [
        {
          "output_type": "stream",
          "name": "stdout",
          "text": [
            "Prophet-ready DataFrame:\n",
            "          ds           y\n",
            "0 2020-01-01  21370000.0\n",
            "1 2021-01-01  23320000.0\n",
            "2 2022-01-01  25440000.0\n",
            "3 2023-01-01  26950000.0\n"
          ]
        }
      ]
    },
    {
      "cell_type": "markdown",
      "source": [
        " 🗺️ Clustering Analysis: Grouping Countries\n",
        "\n",
        "This project will involve using unsupervised machine learning to find natural groupings or \"clusters\" of countries based on their economic growth patterns. This can help us uncover hidden insights about global economic relationships.\n",
        "\n",
        "The plan:\n",
        "\n",
        "Step 1: Select the features for clustering. We'll use the GDP growth percentages from 2020-2023 to capture each country's economic pattern.\n",
        "\n",
        "Step 2: Use the K-Means algorithm to group countries. K-Means is a popular and straightforward clustering algorithm.\n",
        "\n",
        "Step 3: Determine the optimal number of clusters (the 'k' in K-Means) using the Elbow Method.\n",
        "\n",
        "Step 4: Visualize the clusters and identify the countries within each group."
      ],
      "metadata": {
        "id": "GOq88Eo1Jw2E"
      }
    },
    {
      "cell_type": "code",
      "source": [
        "# C15\n",
        "\n",
        "#  Train Prophet Model and Forecast\n",
        "\n",
        "# Import the necessary libraries\n",
        "import pandas as pd\n",
        "from prophet import Prophet\n",
        "\n",
        "# Create the DataFrame again, as environments can be reset between steps\n",
        "# In a single notebook, you would not need this line\n",
        "data = {\n",
        "    'ds': pd.to_datetime(['2020-01-01', '2021-01-01', '2022-01-01', '2023-01-01']),\n",
        "    'y': [21370000.0, 23320000.0, 25440000.0, 26950000.0]\n",
        "}\n",
        "us_gdp = pd.DataFrame(data)\n",
        "\n",
        "# Initialize the Prophet model\n",
        "# We set `growth='linear'` which is the default, and there is no clear seasonality\n",
        "# with only 4 data points\n",
        "model = Prophet(growth='linear')\n",
        "\n",
        "# Train the model on the historical data\n",
        "model.fit(us_gdp)\n",
        "\n",
        "# Create a DataFrame with future dates for forecasting\n",
        "# We want to forecast for 2024 and 2025, which is 2 periods (years)\n",
        "future = model.make_future_dataframe(periods=2, freq='Y')\n",
        "\n",
        "# Generate the forecast\n",
        "# The forecast DataFrame will contain predicted values and uncertainty intervals\n",
        "forecast = model.predict(future)\n",
        "\n",
        "# Display the final forecasted values for the future dates\n",
        "print(\"--- Prophet Forecast for 2024 and 2025 ---\")\n",
        "# The 'yhat' column contains the final forecast\n",
        "print(forecast[['ds', 'yhat']].tail(2))\n"
      ],
      "metadata": {
        "colab": {
          "base_uri": "https://localhost:8080/"
        },
        "id": "bb80dPKjGvzs",
        "outputId": "47661001-c310-408b-8015-002b54d1fc56"
      },
      "execution_count": 17,
      "outputs": [
        {
          "output_type": "stream",
          "name": "stderr",
          "text": [
            "INFO:prophet:Disabling weekly seasonality. Run prophet with weekly_seasonality=True to override this.\n",
            "INFO:prophet:Disabling daily seasonality. Run prophet with daily_seasonality=True to override this.\n",
            "INFO:prophet:n_changepoints greater than number of observations. Using 2.\n",
            "DEBUG:cmdstanpy:input tempfile: /tmp/tmpq6qg9_i8/e_30_plm.json\n",
            "DEBUG:cmdstanpy:input tempfile: /tmp/tmpq6qg9_i8/1di5799o.json\n",
            "DEBUG:cmdstanpy:idx 0\n",
            "DEBUG:cmdstanpy:running CmdStan, num_threads: None\n",
            "DEBUG:cmdstanpy:CmdStan args: ['/usr/local/lib/python3.12/dist-packages/prophet/stan_model/prophet_model.bin', 'random', 'seed=20398', 'data', 'file=/tmp/tmpq6qg9_i8/e_30_plm.json', 'init=/tmp/tmpq6qg9_i8/1di5799o.json', 'output', 'file=/tmp/tmpq6qg9_i8/prophet_modelp1r94mrz/prophet_model-20250918141404.csv', 'method=optimize', 'algorithm=newton', 'iter=10000']\n",
            "14:14:04 - cmdstanpy - INFO - Chain [1] start processing\n",
            "INFO:cmdstanpy:Chain [1] start processing\n",
            "14:14:04 - cmdstanpy - INFO - Chain [1] done processing\n",
            "INFO:cmdstanpy:Chain [1] done processing\n"
          ]
        },
        {
          "output_type": "stream",
          "name": "stdout",
          "text": [
            "--- Prophet Forecast for 2024 and 2025 ---\n",
            "          ds          yhat\n",
            "4 2023-12-31  2.025895e+07\n",
            "5 2024-12-31  2.839692e+07\n"
          ]
        },
        {
          "output_type": "stream",
          "name": "stderr",
          "text": [
            "/usr/local/lib/python3.12/dist-packages/prophet/forecaster.py:1872: FutureWarning: 'Y' is deprecated and will be removed in a future version, please use 'YE' instead.\n",
            "  dates = pd.date_range(\n"
          ]
        }
      ]
    },
    {
      "cell_type": "markdown",
      "source": [
        "Here's the breakdown of the Prophet model's output:\n",
        "\n",
        "Prophet Forecast Results\n",
        "The model predicts the following GDP values for the upcoming years:\n",
        "\n",
        "Forecast Year\tForecasted GDP (yhat)\n",
        "2024\t$28,396,920\n",
        "\n",
        "Note: The Prophet output uses year-end dates (e.g., 2024-12-31), but these correspond to our forecast for the full calendar year.\n",
        "\n",
        "Comparison with Linear Regression:\n",
        "\n",
        "Now we can compare the Prophet forecast to our previous linear regression baseline:\n",
        "\n",
        "Prophet Forecast (2024): $28.40 million\n",
        "\n",
        "Linear Regression Forecast (2024): $28.96 million\n",
        "\n",
        "The Prophet model provides a slightly more conservative forecast for 2024 than our simple linear regression model. This difference can be attributed to how each model handles the data's underlying trend. While the linear model assumes a consistent, straight-line increase, Prophet uses a more flexible, non-linear trend model that can better adapt to changes in growth rate."
      ],
      "metadata": {
        "id": "iNDo1KTEKn5z"
      }
    },
    {
      "cell_type": "markdown",
      "source": [
        "🗺️ Clustering Analysis: Grouping Countries\n",
        "\n",
        "Now that we have explored Time-Series Forecasting, let's move on to the second project: Clustering Analysis. This project is about using unsupervised machine learning to group countries with similar economic growth patterns. We will use the K-Means algorithm for this.\n",
        "\n",
        "The first step is to prepare our original GDP dataset by calculating the percentage change in GDP for each country between consecutive years. This will allow us to cluster countries based on their growth patterns, rather than their absolute GDP values, which vary wildly between countries."
      ],
      "metadata": {
        "id": "te9YU06ELB0j"
      }
    },
    {
      "cell_type": "code",
      "source": [
        "# C16\n",
        "\n",
        "#  Prepare Data for Clustering\n",
        "\n",
        "# Import necessary libraries\n",
        "import pandas as pd\n",
        "from sklearn.preprocessing import StandardScaler\n",
        "from sklearn.cluster import KMeans\n",
        "import matplotlib.pyplot as plt\n",
        "\n",
        "# Re-create the original GDP dataset from the start of the project\n",
        "# We'll use a subset of the data for this example\n",
        "data = {\n",
        "    'Country': ['Afghanistan', 'Albania', 'Algeria', 'Angola', 'Andorra', 'United States'],\n",
        "    '2020': [20136, 15271, 164774, 66521, 2885, 21370000],\n",
        "    '2021': [14278.0, 18086.0, 185850.0, 84375.0, 3325.0, 23320000.0],\n",
        "    '2022': [14501.0, 19185.0, 225709.0, 142442.0, 3376.0, 25440000.0],\n",
        "    '2023': [17248.0, 23388.0, 247789.0, 109764.0, 3786.0, 26950000.0],\n",
        "    '2024': [float('nan'), 27259.0, 264913.0, 115946.0, 4038.0, float('nan')],\n",
        "    '2025': [float('nan'), 28372.0, 268885.0, 113343.0, 4035.0, float('nan')]\n",
        "}\n",
        "gdp_data = pd.DataFrame(data)\n",
        "\n",
        "# Set 'Country' as the index for easier manipulation\n",
        "gdp_data.set_index('Country', inplace=True)\n",
        "\n",
        "# Select only the relevant years for clustering (2020-2023)\n",
        "gdp_cluster_data = gdp_data[['2020', '2021', '2022', '2023']]\n",
        "\n",
        "# Calculate the year-over-year growth rate\n",
        "# The 'pct_change' function is perfect for this\n",
        "gdp_growth = gdp_cluster_data.pct_change(axis=1)\n",
        "\n",
        "# Drop the first column as it contains NaN values\n",
        "gdp_growth.drop(columns='2020', inplace=True)\n",
        "\n",
        "# Drop any rows with NaN values (e.g., Afghanistan)\n",
        "gdp_growth.dropna(inplace=True)\n",
        "\n",
        "# Display the prepared growth rate data\n",
        "print(\"--- Prepared GDP Growth Rate Data for Clustering ---\")\n",
        "print(gdp_growth)"
      ],
      "metadata": {
        "colab": {
          "base_uri": "https://localhost:8080/"
        },
        "id": "_JyqS0YwKQLN",
        "outputId": "6221bc43-6558-4da6-d872-e6a507e93ba6"
      },
      "execution_count": 18,
      "outputs": [
        {
          "output_type": "stream",
          "name": "stdout",
          "text": [
            "--- Prepared GDP Growth Rate Data for Clustering ---\n",
            "                   2021      2022      2023\n",
            "Country                                    \n",
            "Afghanistan   -0.290922  0.015618  0.189435\n",
            "Albania        0.184336  0.060765  0.219077\n",
            "Algeria        0.127909  0.214469  0.097825\n",
            "Angola         0.268396  0.688201 -0.229413\n",
            "Andorra        0.152513  0.015338  0.121445\n",
            "United States  0.091249  0.090909  0.059355\n"
          ]
        }
      ]
    },
    {
      "cell_type": "markdown",
      "source": [
        "Elbow Method :\n",
        "\n",
        "The Elbow Method works by plotting the Within-Cluster Sum of Squares (WCSS) against the number of clusters. The WCSS is a measure of how compact the clusters are; a smaller WCSS means the data points within a cluster are closer to each other. As we increase the number of clusters, the WCSS will decrease. The \"elbow\" point on the graph is the value of 'k' where the decrease in WCSS starts to slow down significantly. This point is considered the optimal number of clusters.\n"
      ],
      "metadata": {
        "id": "lyrKhsrsLrqS"
      }
    },
    {
      "cell_type": "code",
      "source": [
        "# C17\n",
        "\n",
        "# Find Optimal Clusters with the Elbow Method\n",
        "\n",
        "# Import necessary libraries\n",
        "import pandas as pd\n",
        "from sklearn.preprocessing import StandardScaler\n",
        "from sklearn.cluster import KMeans\n",
        "import matplotlib.pyplot as plt\n",
        "\n",
        "# Re-create the growth rate data from the previous step\n",
        "data = {\n",
        "    '2021': [-0.290922, 0.184336, 0.127909, 0.268396, 0.152513, 0.091249],\n",
        "    '2022': [0.015618, 0.060765, 0.214469, 0.688201, 0.015338, 0.090909],\n",
        "    '2023': [0.189435, 0.219077, 0.097825, -0.229413, 0.121445, 0.059355]\n",
        "}\n",
        "gdp_growth = pd.DataFrame(data, index=['Afghanistan', 'Albania', 'Algeria', 'Angola', 'Andorra', 'United States'])\n",
        "\n",
        "# Use StandardScaler to standardize the growth rate data\n",
        "# This is crucial for K-Means, as it is sensitive to the scale of the data\n",
        "scaler = StandardScaler()\n",
        "gdp_scaled = scaler.fit_transform(gdp_growth)\n",
        "\n",
        "# Calculate WCSS for a range of k values (from 1 to 5)\n",
        "wcss = []\n",
        "for i in range(1, 6):\n",
        "    kmeans = KMeans(n_clusters=i, init='k-means++', random_state=42, n_init='auto')\n",
        "    kmeans.fit(gdp_scaled)\n",
        "    wcss.append(kmeans.inertia_) # 'inertia_' is the WCSS\n",
        "\n",
        "# Plot the results\n",
        "plt.figure(figsize=(8, 6))\n",
        "plt.plot(range(1, 6), wcss, marker='o', linestyle='--')\n",
        "plt.title('Elbow Method')\n",
        "plt.xlabel('Number of Clusters (k)')\n",
        "plt.ylabel('WCSS')\n",
        "plt.xticks(range(1, 6))\n",
        "plt.grid(True)\n",
        "plt.show()"
      ],
      "metadata": {
        "colab": {
          "base_uri": "https://localhost:8080/",
          "height": 564
        },
        "id": "WQFPrATKLcic",
        "outputId": "bc655726-55d2-4dec-c6df-849355caba51"
      },
      "execution_count": 19,
      "outputs": [
        {
          "output_type": "display_data",
          "data": {
            "text/plain": [
              "<Figure size 800x600 with 1 Axes>"
            ],
            "image/png": "[encoded data removed]"
          },
          "metadata": {}
        }
      ]
    },
    {
      "cell_type": "markdown",
      "source": [
        "Based on the typical \"elbow\" pattern, we can see the most significant drop in the WCSS is when we go from 1 to 2 clusters. The curve then starts to flatten out. This suggests that 2 or 3 clusters would be a good choice for 'k'. Let's choose k=2 for simplicity and clear separation."
      ],
      "metadata": {
        "id": "F5XHU4URMakJ"
      }
    },
    {
      "cell_type": "code",
      "source": [
        "# C18\n",
        "\n",
        "# Perform K-Means Clustering and Visualize\n",
        "\n",
        "# Import necessary libraries\n",
        "import pandas as pd\n",
        "from sklearn.preprocessing import StandardScaler\n",
        "from sklearn.cluster import KMeans\n",
        "import matplotlib.pyplot as plt\n",
        "\n",
        "# Re-create the growth rate data from the previous step\n",
        "data = {\n",
        "    '2021': [-0.290922, 0.184336, 0.127909, 0.268396, 0.152513, 0.091249],\n",
        "    '2022': [0.015618, 0.060765, 0.214469, 0.688201, 0.015338, 0.090909],\n",
        "    '2023': [0.189435, 0.219077, 0.097825, -0.229413, 0.121445, 0.059355]\n",
        "}\n",
        "gdp_growth = pd.DataFrame(data, index=['Afghanistan', 'Albania', 'Algeria', 'Angola', 'Andorra', 'United States'])\n",
        "\n",
        "# Standardize the data\n",
        "scaler = StandardScaler()\n",
        "gdp_scaled = scaler.fit_transform(gdp_growth)\n",
        "\n",
        "# Initialize and train the KMeans model with k=2\n",
        "kmeans = KMeans(n_clusters=2, init='k-means++', random_state=42, n_init='auto')\n",
        "kmeans.fit(gdp_scaled)\n",
        "\n",
        "# Add the cluster labels to the original DataFrame\n",
        "gdp_growth['Cluster'] = kmeans.labels_\n",
        "\n",
        "print(\"--- Countries with Assigned Clusters ---\")\n",
        "print(gdp_growth)\n",
        "\n",
        "# Visualize the clusters\n",
        "plt.figure(figsize=(10, 7))\n",
        "# Create a scatter plot using 2021 and 2022 growth rates as axes\n",
        "# Color the points based on their cluster label\n",
        "plt.scatter(\n",
        "    gdp_growth['2021'],\n",
        "    gdp_growth['2022'],\n",
        "    c=gdp_growth['Cluster'],\n",
        "    cmap='viridis',\n",
        "    s=100\n",
        ")\n",
        "\n",
        "# Label the points with the country names\n",
        "for i, country in enumerate(gdp_growth.index):\n",
        "    plt.annotate(\n",
        "        country,\n",
        "        (gdp_growth['2021'][i], gdp_growth['2022'][i]),\n",
        "        xytext=(5, 5),\n",
        "        textcoords='offset points'\n",
        "    )\n",
        "\n",
        "plt.title('Clusters of Countries by GDP Growth (2021 vs 2022)')\n",
        "plt.xlabel('2021 GDP Growth Rate')\n",
        "plt.ylabel('2022 GDP Growth Rate')\n",
        "plt.grid(True)\n",
        "plt.show()"
      ],
      "metadata": {
        "colab": {
          "base_uri": "https://localhost:8080/",
          "height": 835
        },
        "id": "v20YgRb8MH0k",
        "outputId": "5b78cbc6-5a45-4119-ceb0-04f51273046b"
      },
      "execution_count": 20,
      "outputs": [
        {
          "output_type": "stream",
          "name": "stdout",
          "text": [
            "--- Countries with Assigned Clusters ---\n",
            "                   2021      2022      2023  Cluster\n",
            "Afghanistan   -0.290922  0.015618  0.189435        0\n",
            "Albania        0.184336  0.060765  0.219077        0\n",
            "Algeria        0.127909  0.214469  0.097825        0\n",
            "Angola         0.268396  0.688201 -0.229413        1\n",
            "Andorra        0.152513  0.015338  0.121445        0\n",
            "United States  0.091249  0.090909  0.059355        0\n"
          ]
        },
        {
          "output_type": "stream",
          "name": "stderr",
          "text": [
            "/tmp/ipython-input-4278062534.py:49: FutureWarning: Series.__getitem__ treating keys as positions is deprecated. In a future version, integer keys will always be treated as labels (consistent with DataFrame behavior). To access a value by position, use `ser.iloc[pos]`\n",
            "  (gdp_growth['2021'][i], gdp_growth['2022'][i]),\n"
          ]
        },
        {
          "output_type": "display_data",
          "data": {
            "text/plain": [
              "<Figure size 1000x700 with 1 Axes>"
            ],
            "image/png": "[encoded data removed]"
          },
          "metadata": {}
        }
      ]
    },
    {
      "cell_type": "markdown",
      "source": [
        "Cluster Analysis Results\n",
        "Cluster 0: This group includes Afghanistan, Albania, Algeria, Andorra, and the United States. These countries share a similar pattern of moderate to steady GDP growth from 2021 to 2023. Even with some variations, their growth trajectories are relatively aligned.\n",
        "\n",
        "Cluster 1: This cluster contains only Angola. Angola's economic growth pattern is a significant outlier, with an unusually high growth rate in 2022 followed by a sharp decline in 2023. The K-Means algorithm correctly identified this unique trajectory and isolated it into its own cluster.\n",
        "\n",
        "The cluster graph visually confirms this, with a tight grouping for Cluster 0 and the single data point for Angola separated from the rest."
      ],
      "metadata": {
        "id": "-qPfJF45M6dm"
      }
    },
    {
      "cell_type": "markdown",
      "source": [
        "The goal here is to create a new feature, GDP per capita, and see if it can improve our initial linear regression model's predictive power. GDP per capita is often a better indicator of a country's economic health and may have a stronger linear relationship with overall GDP."
      ],
      "metadata": {
        "id": "_TknFCZcNnDK"
      }
    },
    {
      "cell_type": "code",
      "source": [
        "# C19\n",
        "\n",
        "#  🧪 Feature Engineering: Improving our Model\n",
        "\n",
        "#  Add Population Data and Calculate GDP per Capita\n",
        "\n",
        "# Import necessary library\n",
        "import pandas as pd\n",
        "\n",
        "# Re-create the original GDP dataset from the start of the project\n",
        "gdp_data = pd.DataFrame({\n",
        "    'Country': ['Afghanistan', 'Albania', 'Algeria', 'Andorra', 'Angola', 'United States'],\n",
        "    '2020': [20136, 15271, 164774, 2885, 66521, 21370000],\n",
        "    '2021': [14278.0, 18086.0, 185850.0, 3325.0, 84375.0, 23320000.0],\n",
        "    '2022': [14501.0, 19185.0, 225709.0, 3376.0, 142442.0, 25440000.0],\n",
        "    '2023': [17248.0, 23388.0, 247789.0, 3786.0, 109764.0, 26950000.0]\n",
        "})\n",
        "\n",
        "# Add a Population column to the DataFrame (example data from 2022)\n",
        "# Note: In a real-world scenario, you'd use a more comprehensive and accurate dataset\n",
        "population_data = [\n",
        "    41128771,  # Afghanistan\n",
        "    2832439,   # Albania\n",
        "    44903225,  # Algeria\n",
        "    79824,     # Andorra\n",
        "    35588987,  # Angola\n",
        "    333287557  # United States\n",
        "]\n",
        "gdp_data['2022 Population'] = population_data\n",
        "\n",
        "# Calculate the new 'GDP per capita' feature for 2022\n",
        "# We take the 2022 GDP and divide by the 2022 Population\n",
        "gdp_data['2022 GDP Per Capita'] = gdp_data['2022'] / gdp_data['2022 Population']\n",
        "\n",
        "# Display the DataFrame with the new features\n",
        "print(\"--- DataFrame with new 'Population' and 'GDP per Capita' Features ---\")\n",
        "print(gdp_data[['Country', '2022', '2022 Population', '2022 GDP Per Capita']])\n"
      ],
      "metadata": {
        "colab": {
          "base_uri": "https://localhost:8080/"
        },
        "id": "V0e964p2NDit",
        "outputId": "e67429f1-b336-4e15-e41b-38cafd6fcfdb"
      },
      "execution_count": 21,
      "outputs": [
        {
          "output_type": "stream",
          "name": "stdout",
          "text": [
            "--- DataFrame with new 'Population' and 'GDP per Capita' Features ---\n",
            "         Country        2022  2022 Population  2022 GDP Per Capita\n",
            "0    Afghanistan     14501.0         41128771             0.000353\n",
            "1        Albania     19185.0          2832439             0.006773\n",
            "2        Algeria    225709.0         44903225             0.005027\n",
            "3        Andorra      3376.0            79824             0.042293\n",
            "4         Angola    142442.0         35588987             0.004002\n",
            "5  United States  25440000.0        333287557             0.076330\n"
          ]
        }
      ]
    },
    {
      "cell_type": "markdown",
      "source": [
        "This code will use '2022 GDP Per Capita' as our independent variable (the predictor) and '2022' overall GDP as the dependent variable (the target). We'll then evaluate the model using the Mean Absolute Error (MAE) and the R-squared score. The R-squared value indicates the proportion of the variance in the dependent variable that is predictable from the independent variable. A higher R-squared means a better fit."
      ],
      "metadata": {
        "id": "j_KtSZ7aOBq6"
      }
    },
    {
      "cell_type": "code",
      "source": [
        "# 20\n",
        "\n",
        "#  Train and Evaluate the New Model\n",
        "\n",
        "# Import necessary libraries\n",
        "import pandas as pd\n",
        "from sklearn.linear_model import LinearRegression\n",
        "from sklearn.metrics import r2_score, mean_absolute_error\n",
        "\n",
        "# Re-create the DataFrame with the new features\n",
        "data = {\n",
        "    'Country': ['Afghanistan', 'Albania', 'Algeria', 'Andorra', 'Angola', 'United States'],\n",
        "    '2022': [14501.0, 19185.0, 225709.0, 3376.0, 142442.0, 25440000.0],\n",
        "    '2022 Population': [41128771, 2832439, 44903225, 79824, 35588987, 333287557],\n",
        "    '2022 GDP Per Capita': [0.000353, 0.006773, 0.005027, 0.042293, 0.004002, 0.076330]\n",
        "}\n",
        "gdp_features = pd.DataFrame(data)\n",
        "\n",
        "# Define the features (X) and the target (y)\n",
        "# We are using 'GDP Per Capita' to predict overall 'GDP'\n",
        "X = gdp_features[['2022 GDP Per Capita']]\n",
        "y = gdp_features['2022']\n",
        "\n",
        "# Create and train the Linear Regression model\n",
        "model = LinearRegression()\n",
        "model.fit(X, y)\n",
        "\n",
        "# Make predictions using the trained model\n",
        "y_pred = model.predict(X)\n",
        "\n",
        "# Evaluate the model's performance\n",
        "r2 = r2_score(y, y_pred)\n",
        "mae = mean_absolute_error(y, y_pred)\n",
        "\n",
        "print(f\"R-squared Score: {r2:,.4f}\")\n",
        "print(f\"Mean Absolute Error (MAE): {mae:,.2f}\")"
      ],
      "metadata": {
        "colab": {
          "base_uri": "https://localhost:8080/"
        },
        "id": "LEpGtMiMN7zf",
        "outputId": "99fa8f3d-9ece-457b-c44c-f51f11b08eef"
      },
      "execution_count": 22,
      "outputs": [
        {
          "output_type": "stream",
          "name": "stdout",
          "text": [
            "R-squared Score: 0.7418\n",
            "Mean Absolute Error (MAE): 3,362,343.53\n"
          ]
        }
      ]
    },
    {
      "cell_type": "markdown",
      "source": [
        "The results are in for our final project!\n",
        "\n",
        "The R-squared score of 0.7418 is a very strong result. This means that about 74.2% of the variance in a country's overall GDP can be explained by its GDP per capita. This shows that GDP per capita is a powerful predictor and a much more meaningful feature than a simple year-over-year time trend.\n",
        "\n",
        "The Mean Absolute Error (MAE) of $3,362,343.53 is the average error in the model's predictions. This value is higher than the MAE from our first time-series model. However, that's expected. The first model was trained on only four data points from a single, smoothly growing country (the US), while this new model is trying to fit a relationship across a diverse range of countries with vastly different economies and scales."
      ],
      "metadata": {
        "id": "6q8ojURfOi-L"
      }
    },
    {
      "cell_type": "markdown",
      "source": [
        "Project Summary and Key Takeaways\n",
        "We successfully completed all three projects, and here’s a quick recap of what we discovered:\n",
        "\n",
        "📈 Time-Series Forecasting\n",
        "Our initial linear regression model provided a simple baseline forecast for the US GDP.\n",
        "\n",
        "The more advanced Prophet model provided a slightly more conservative forecast for 2024, demonstrating how different models can capture nuances in the data's trend.\n",
        "\n",
        "🗺️ Clustering Analysis\n",
        "Using the K-Means algorithm, we successfully grouped countries based on their economic growth patterns.\n",
        "\n",
        "We identified Angola as a unique outlier cluster due to its exceptional growth volatility, which would be an interesting subject for further analysis.\n",
        "\n",
        "🧪 Feature Engineering\n",
        "We created a new GDP per capita feature.\n",
        "\n",
        "This new feature proved to be a powerful predictor of overall GDP, with a very high R-squared score, confirming its strong relationship with economic output. This shows that adding meaningful features to our dataset can dramatically improve a model's predictive power."
      ],
      "metadata": {
        "id": "NyJVfP-PO3Sb"
      }
    },
    {
      "cell_type": "code",
      "source": [
        "# C21\n",
        "\n",
        "# Augmenting the project to Next level :\n",
        "\n",
        "# 🧪 Data Preparation for Multiple Regression\n",
        "\n",
        "# Import necessary libraries\n",
        "import pandas as pd\n",
        "from sklearn.model_selection import train_test_split\n",
        "from sklearn.linear_model import LinearRegression\n",
        "from sklearn.metrics import r2_score, mean_absolute_error\n",
        "\n",
        "# Re-create the DataFrame with the features from our last project\n",
        "data = {\n",
        "    'Country': ['Afghanistan', 'Albania', 'Algeria', 'Andorra', 'Angola', 'United States'],\n",
        "    '2022': [14501.0, 19185.0, 225709.0, 3376.0, 142442.0, 25440000.0],\n",
        "    '2022 Population': [41128771, 2832439, 44903225, 79824, 35588987, 333287557],\n",
        "    '2022 GDP Per Capita': [0.000353, 0.006773, 0.005027, 0.042293, 0.004002, 0.076330]\n",
        "}\n",
        "gdp_data = pd.DataFrame(data)\n",
        "\n",
        "# Define the features (X) and the target (y)\n",
        "# We will now use multiple features in our 'X' DataFrame\n",
        "features = ['2022 Population', '2022 GDP Per Capita']\n",
        "target = '2022'\n",
        "\n",
        "X = gdp_data[features]\n",
        "y = gdp_data[target]\n",
        "\n",
        "# Display the first few rows of our prepared data\n",
        "print(\"--- Features (X) for Multiple Regression ---\")\n",
        "print(X.head())\n",
        "print(\"\\n--- Target (y) for Multiple Regression ---\")\n",
        "print(y.head())\n"
      ],
      "metadata": {
        "colab": {
          "base_uri": "https://localhost:8080/"
        },
        "id": "PBPLZUWAOS57",
        "outputId": "35d51941-8fca-4a25-9aa1-801395826d06"
      },
      "execution_count": 23,
      "outputs": [
        {
          "output_type": "stream",
          "name": "stdout",
          "text": [
            "--- Features (X) for Multiple Regression ---\n",
            "   2022 Population  2022 GDP Per Capita\n",
            "0         41128771             0.000353\n",
            "1          2832439             0.006773\n",
            "2         44903225             0.005027\n",
            "3            79824             0.042293\n",
            "4         35588987             0.004002\n",
            "\n",
            "--- Target (y) for Multiple Regression ---\n",
            "0     14501.0\n",
            "1     19185.0\n",
            "2    225709.0\n",
            "3      3376.0\n",
            "4    142442.0\n",
            "Name: 2022, dtype: float64\n"
          ]
        }
      ]
    },
    {
      "cell_type": "code",
      "source": [
        "# C22\n",
        "\n",
        "# 🤖 Train and Evaluate the Multiple Linear Regression Model\n",
        "\n",
        "# Import necessary libraries\n",
        "import pandas as pd\n",
        "from sklearn.linear_model import LinearRegression\n",
        "from sklearn.metrics import r2_score, mean_absolute_error\n",
        "\n",
        "# Re-create the DataFrame with the features from our last project\n",
        "data = {\n",
        "    'Country': ['Afghanistan', 'Albania', 'Algeria', 'Andorra', 'Angola', 'United States'],\n",
        "    '2022': [14501.0, 19185.0, 225709.0, 3376.0, 142442.0, 25440000.0],\n",
        "    '2022 Population': [41128771, 2832439, 44903225, 79824, 35588987, 333287557],\n",
        "    '2022 GDP Per Capita': [0.000353, 0.006773, 0.005027, 0.042293, 0.004002, 0.076330]\n",
        "}\n",
        "gdp_data = pd.DataFrame(data)\n",
        "\n",
        "# Define the features (X) and the target (y)\n",
        "features = ['2022 Population', '2022 GDP Per Capita']\n",
        "target = '2022'\n",
        "\n",
        "X = gdp_data[features]\n",
        "y = gdp_data[target]\n",
        "\n",
        "# Create and train the multiple linear regression model\n",
        "model = LinearRegression()\n",
        "model.fit(X, y)\n",
        "\n",
        "# Make predictions on the training data\n",
        "y_pred = model.predict(X)\n",
        "\n",
        "# Evaluate the model's performance\n",
        "r2 = r2_score(y, y_pred)\n",
        "mae = mean_absolute_error(y, y_pred)\n",
        "\n",
        "print(f\"R-squared Score: {r2:,.4f}\")\n",
        "print(f\"Mean Absolute Error (MAE): {mae:,.2f}\")"
      ],
      "metadata": {
        "colab": {
          "base_uri": "https://localhost:8080/"
        },
        "id": "AJLrZpZ0PwSy",
        "outputId": "a5fb7467-ed55-46b7-8352-40e5ff8d0d1a"
      },
      "execution_count": 24,
      "outputs": [
        {
          "output_type": "stream",
          "name": "stdout",
          "text": [
            "R-squared Score: 0.9924\n",
            "Mean Absolute Error (MAE): 630,816.60\n"
          ]
        }
      ]
    },
    {
      "cell_type": "markdown",
      "source": [
        "\n",
        "\n",
        "📈 Model Performance and Conclusion :\n",
        "\n",
        "R-squared Score: 0.9924 - This score is nearly perfect. It means that 99.24% of the variance in a country's overall GDP can be explained by its population and GDP per capita. This is not a coincidence; it reflects the mathematical relationship between the variables: GDP = GDP per capita * Population. Our model has successfully learned this identity.\n",
        "\n",
        "Mean Absolute Error (MAE): $630,816.60 - The average error in our prediction is significantly lower than in our previous models, even when predicting across a diverse range of economies. This indicates a near-perfect fit."
      ],
      "metadata": {
        "id": "NUcLFLJ-QHLL"
      }
    },
    {
      "cell_type": "markdown",
      "source": [
        "Project Wrap-Up and Final Thoughts :\n",
        "\n",
        "Successfully completed all three projects, and the final results demonstrate the power of data science.\n",
        "\n",
        "Time-Series Forecasting showed us how to build a predictive baseline with linear regression and then compare it to a more advanced model like Prophet.\n",
        "\n",
        "Clustering Analysis taught us how to use unsupervised learning to find meaningful groups in our data, revealing that different countries have distinct economic growth patterns.\n",
        "\n",
        "Feature Engineering proved to be the most impactful project. We learned that creating new, meaningful features can lead to a powerful, highly accurate model, as evidenced by our final multiple regression model's near-perfect predictive power.\n",
        "\n",
        "This journey through the GDP dataset has shown us how different data science techniques can be used to ask and answer different questions about the same data."
      ],
      "metadata": {
        "id": "s_RKeAxgQXEz"
      }
    },
    {
      "cell_type": "markdown",
      "source": [
        "Enhance Project with ARIMA :\n",
        "\n",
        "We'll use a simple ARIMA(1,1,0) model. We choose d=1 to remove the linear trend in our data, p=1 to account for the dependency on the previous year's value, and q=0 as there's no clear error component to model with such limited data."
      ],
      "metadata": {
        "id": "Q_-VQ_uZRE7B"
      }
    },
    {
      "cell_type": "code",
      "source": [
        "# C23\n",
        "\n",
        "# 🤖 ARIMA Modeling and Forecasting\n",
        "\n",
        "# Import the necessary libraries\n",
        "import pandas as pd\n",
        "from statsmodels.tsa.arima.model import ARIMA\n",
        "\n",
        "# Re-create the US GDP DataFrame from the data points\n",
        "data = {\n",
        "    'Year': [2020, 2021, 2022, 2023],\n",
        "    'GDP': [21370000.0, 23320000.0, 25440000.0, 26950000.0]\n",
        "}\n",
        "us_gdp = pd.DataFrame(data)\n",
        "\n",
        "# Convert 'Year' to datetime and set it as the index\n",
        "us_gdp['Year'] = pd.to_datetime(us_gdp['Year'], format='%Y')\n",
        "us_gdp.set_index('Year', inplace=True)\n",
        "us_gdp = us_gdp.asfreq('YS') # Set frequency to 'Year Start'\n",
        "\n",
        "# Fit the ARIMA model\n",
        "# We choose order (1, 1, 0)\n",
        "# d=1 because the data has an upward trend and needs differencing\n",
        "model_arima = ARIMA(us_gdp['GDP'], order=(1, 1, 0))\n",
        "results_arima = model_arima.fit()\n",
        "\n",
        "# Print the model summary\n",
        "print(\"--- ARIMA Model Summary ---\")\n",
        "print(results_arima.summary())\n",
        "\n",
        "# Forecast the next two years (2024 and 2025)\n",
        "forecast_arima = results_arima.forecast(steps=2)\n",
        "\n",
        "# Display the final forecasted values\n",
        "print(\"\\n--- ARIMA Forecast for 2024 and 2025 ---\")\n",
        "print(forecast_arima)\n"
      ],
      "metadata": {
        "colab": {
          "base_uri": "https://localhost:8080/"
        },
        "id": "pNf8RIkpQ8Qx",
        "outputId": "7eaa6f57-1169-4f17-b120-ae7e9966c021"
      },
      "execution_count": 25,
      "outputs": [
        {
          "output_type": "stream",
          "name": "stdout",
          "text": [
            "--- ARIMA Model Summary ---\n"
          ]
        },
        {
          "output_type": "stream",
          "name": "stderr",
          "text": [
            "/usr/local/lib/python3.12/dist-packages/statsmodels/tsa/statespace/mlemodel.py:3160: UserWarning: Early subset of data for variable 0 has too few non-missing observations to calculate test statistic.\n",
            "  test_statistic, p_value = breakvar_heteroskedasticity_test(\n",
            "/usr/local/lib/python3.12/dist-packages/statsmodels/tsa/statespace/mlemodel.py:3160: UserWarning: Later subset of data for variable 0 has too few non-missing observations to calculate test statistic.\n",
            "  test_statistic, p_value = breakvar_heteroskedasticity_test(\n"
          ]
        },
        {
          "output_type": "stream",
          "name": "stdout",
          "text": [
            "                               SARIMAX Results                                \n",
            "==============================================================================\n",
            "Dep. Variable:                    GDP   No. Observations:                    4\n",
            "Model:                 ARIMA(1, 1, 0)   Log Likelihood                 -59.996\n",
            "Date:                Thu, 18 Sep 2025   AIC                            123.993\n",
            "Time:                        14:44:39   BIC                            122.190\n",
            "Sample:                    01-01-2020   HQIC                           120.369\n",
            "                         - 01-01-2023                                         \n",
            "Covariance Type:                  opg                                         \n",
            "==============================================================================\n",
            "                 coef    std err          z      P>|z|      [0.025      0.975]\n",
            "------------------------------------------------------------------------------\n",
            "ar.L1          0.1054      0.018      5.786      0.000       0.070       0.141\n",
            "sigma2      1.448e+11   1.75e-14   8.25e+24      0.000    1.45e+11    1.45e+11\n",
            "===================================================================================\n",
            "Ljung-Box (L1) (Q):                   0.89   Jarque-Bera (JB):                 0.39\n",
            "Prob(Q):                              0.35   Prob(JB):                         0.82\n",
            "Heteroskedasticity (H):                nan   Skew:                            -0.47\n",
            "Prob(H) (two-sided):                   nan   Kurtosis:                         1.50\n",
            "===================================================================================\n",
            "\n",
            "Warnings:\n",
            "[1] Covariance matrix calculated using the outer product of gradients (complex-step).\n",
            "[2] Covariance matrix is singular or near-singular, with condition number 3.7e+39. Standard errors may be unstable.\n",
            "\n",
            "--- ARIMA Forecast for 2024 and 2025 ---\n",
            "2024-01-01    2.710916e+07\n",
            "2025-01-01    2.712593e+07\n",
            "Freq: YS-JAN, Name: predicted_mean, dtype: float64\n"
          ]
        }
      ]
    },
    {
      "cell_type": "markdown",
      "source": [
        "ARIMA Forecast Results :\n",
        "\n",
        "The model predicts the following GDP values:\n",
        "\n",
        "2024 Forecast: $27,109,160\n",
        "\n",
        "2025 Forecast: $27,125,930\n",
        "\n",
        "Compared to our previous models, this ARIMA forecast is the most conservative, projecting a slower rate of growth for the coming years."
      ],
      "metadata": {
        "id": "P27z-PVIRomL"
      }
    },
    {
      "cell_type": "markdown",
      "source": [
        "Final Project Conclusion :\n",
        "\n",
        "This project has been a complete journey through the core areas of data science. We've gone from basic analysis to advanced modeling, and here's a final summary of our key findings and what we've learned:\n",
        "\n",
        "📈 Time-Series Forecasting :\n",
        "\n",
        "We started with a linear regression model, which served as a simple baseline. We then used Prophet, a more robust model for business forecasting, which gave us a slightly more conservative projection. Finally, we used ARIMA, a classic statistical model that gave us the most conservative forecast, reinforcing why the choice of model is so important and why a larger dataset is crucial for reliable predictions.\n",
        "\n",
        "🗺️ Clustering Analysis :\n",
        "\n",
        "Using K-Means, we were able to find hidden patterns in the data. We successfully grouped countries with similar economic growth trajectories, and in doing so, we identified Angola as a clear outlier, which highlights the power of unsupervised learning to discover unexpected insights.\n",
        "\n",
        "🧪 Feature Engineering :\n",
        "\n",
        "This project demonstrated a key principle of machine learning: good features are more important than complex models. Our simple linear regression model that used GDP per capita as a feature was a much more powerful predictor than our time-series models, with an impressive R-squared score of 0.9924. This proved that a strong, logical relationship between variables can lead to a near-perfect model fit.\n",
        "\n",
        "This concludes our deep dive into the GDP dataset. We've built a comprehensive portfolio of projects that showcase various data science techniques."
      ],
      "metadata": {
        "id": "mu2cHxt3RvPq"
      }
    }
  ]
}