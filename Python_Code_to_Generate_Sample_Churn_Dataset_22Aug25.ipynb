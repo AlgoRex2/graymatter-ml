{
  "nbformat": 4,
  "nbformat_minor": 0,
  "metadata": {
    "colab": {
      "provenance": [],
      "authorship_tag": "ABX9TyNRRCF/gRxqgZWUWv7wRnYA",
      "include_colab_link": true
    },
    "kernelspec": {
      "name": "python3",
      "display_name": "Python 3"
    },
    "language_info": {
      "name": "python"
    }
  },
  "cells": [
    {
      "cell_type": "markdown",
      "metadata": {
        "id": "view-in-github",
        "colab_type": "text"
      },
      "source": [
        "<a href=\"https://colab.research.google.com/github/AlgoRex2/graymatter-ml/blob/main/Python_Code_to_Generate_Sample_Churn_Dataset_22Aug25.ipynb\" target=\"_parent\"><img src=\"https://colab.research.google.com/assets/colab-badge.svg\" alt=\"Open In Colab\"/></a>"
      ]
    },
    {
      "cell_type": "code",
      "execution_count": 1,
      "metadata": {
        "id": "uQ5l3rpWl7UO"
      },
      "outputs": [],
      "source": [
        "import pandas as pd\n",
        "import numpy as np\n",
        "import random\n"
      ]
    },
    {
      "cell_type": "code",
      "source": [
        "# Set seed for reproducibility\n",
        "np.random.seed(42)"
      ],
      "metadata": {
        "id": "bg6-cLkmmM2B"
      },
      "execution_count": 2,
      "outputs": []
    },
    {
      "cell_type": "code",
      "source": [
        "# Generate sample data\n",
        "n = 500  # number of customers\n",
        "\n",
        "customer_ids = np.arange(1001, 1001 + n)\n",
        "ages = np.random.randint(18, 70, size=n)\n",
        "genders = np.random.choice(['Male', 'Female'], size=n)\n",
        "subscription_types = np.random.choice(['Basic', 'Standard', 'Premium'], size=n, p=[0.4, 0.3, 0.3])\n",
        "last_login_days_ago = np.clip(np.random.exponential(scale=15, size=n).astype(int), 0, 90)\n",
        "support_tickets = np.random.poisson(lam=1.5, size=n)\n",
        "monthly_usage_minutes = np.clip(np.random.normal(loc=300, scale=100, size=n), 0, 1000).astype(int)\n",
        "payment_methods = np.random.choice(['Credit Card', 'PayPal', 'Debit Card'], size=n, p=[0.6, 0.3, 0.1])\n",
        "tenure_months = np.random.randint(1, 24, size=n)"
      ],
      "metadata": {
        "id": "OY9Gh3DrmR1F"
      },
      "execution_count": 3,
      "outputs": []
    },
    {
      "cell_type": "code",
      "source": [
        "# Simulate churn based on behavior\n",
        "# Customers with low usage, long time since last login, and short tenure more likely to churn\n",
        "churn_probs = (\n",
        "    (last_login_days_ago / 90) * 0.4 +\n",
        "    (1 - (monthly_usage_minutes / 1000)) * 0.3 +\n",
        "    (1 - (tenure_months / 24)) * 0.3\n",
        ")\n",
        "churned = np.random.binomial(1, churn_probs)"
      ],
      "metadata": {
        "id": "zFm0wWbKmb9l"
      },
      "execution_count": 4,
      "outputs": []
    },
    {
      "cell_type": "code",
      "source": [
        "# Create DataFrame\n",
        "df = pd.DataFrame({\n",
        "    'customer_id': customer_ids,\n",
        "    'age': ages,\n",
        "    'gender': genders,\n",
        "    'subscription_type': subscription_types,\n",
        "    'last_login_days_ago': last_login_days_ago,\n",
        "    'support_tickets': support_tickets,\n",
        "    'monthly_usage_minutes': monthly_usage_minutes,\n",
        "    'payment_method': payment_methods,\n",
        "    'tenure_months': tenure_months,\n",
        "    'churned': churned\n",
        "})\n"
      ],
      "metadata": {
        "id": "ou-RH7NsmboA"
      },
      "execution_count": 5,
      "outputs": []
    },
    {
      "cell_type": "code",
      "source": [
        "# Save to the specified Google Drive path\n",
        "output_path = r'G:\\My Drive\\DA_Practise_Folder_EXCEL\\global_student_migration.csv'\n",
        "df.to_csv(output_path, index=False)\n",
        "\n",
        "print(f\"✅ Dataset saved to: {output_path}\")\n"
      ],
      "metadata": {
        "colab": {
          "base_uri": "https://localhost:8080/"
        },
        "id": "czcQvlU3mntM",
        "outputId": "c1f8c290-44e7-434c-e80d-0b1a3cdc2280"
      },
      "execution_count": 6,
      "outputs": [
        {
          "output_type": "stream",
          "name": "stdout",
          "text": [
            "✅ Dataset saved to: G:\\My Drive\\DA_Practise_Folder_EXCEL\\global_student_migration.csv\n"
          ]
        }
      ]
    }
  ]
}